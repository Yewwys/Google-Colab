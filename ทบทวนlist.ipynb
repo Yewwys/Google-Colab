{
 "cells": [
  {
   "cell_type": "code",
   "execution_count": 1,
   "id": "9211aba2",
   "metadata": {},
   "outputs": [],
   "source": [
    "lst = [[23,11,33],[45,33,22],[65,77,21]]"
   ]
  },
  {
   "cell_type": "code",
   "execution_count": 2,
   "id": "5e354c23",
   "metadata": {},
   "outputs": [
    {
     "data": {
      "text/plain": [
       "77"
      ]
     },
     "execution_count": 2,
     "metadata": {},
     "output_type": "execute_result"
    }
   ],
   "source": [
    "# 3,2\n",
    "lst[2][1]"
   ]
  },
  {
   "cell_type": "code",
   "execution_count": 3,
   "id": "73f95218",
   "metadata": {},
   "outputs": [
    {
     "data": {
      "text/plain": [
       "array([[-0.02463087,  0.75473159,  1.88132808, -0.011614  ,  1.40218845],\n",
       "       [-0.01078221, -1.99789382,  1.58410172,  0.33036025, -0.84952787],\n",
       "       [ 0.32123848, -0.83548505,  1.11520644, -0.29132471,  0.85760335],\n",
       "       [ 0.09937947, -0.96969975, -0.48496286,  1.59953545, -0.13684067],\n",
       "       [-0.47443335, -0.19954302, -2.26758134, -1.97202275,  0.24561384],\n",
       "       [ 0.17615901, -0.08908426, -0.21427574,  2.16346362,  0.16424155],\n",
       "       [-1.11167787,  1.07860482,  0.45871005,  0.29980773,  0.02422908],\n",
       "       [-0.02033894,  0.41245652, -1.54572747,  0.48632376,  0.36353227],\n",
       "       [-0.79557837, -0.93228476,  0.80063078,  0.16731951, -0.94707382],\n",
       "       [ 1.92517945,  0.9685362 ,  0.23591741,  0.08558827,  0.01656375]])"
      ]
     },
     "execution_count": 3,
     "metadata": {},
     "output_type": "execute_result"
    }
   ],
   "source": [
    "import numpy as np \n",
    "x = np.random.randn(10,5)\n",
    "x"
   ]
  },
  {
   "cell_type": "code",
   "execution_count": 4,
   "id": "c2c18984",
   "metadata": {},
   "outputs": [
    {
     "data": {
      "text/plain": [
       "0.1673195074616488"
      ]
     },
     "execution_count": 4,
     "metadata": {},
     "output_type": "execute_result"
    }
   ],
   "source": [
    "# 9,4\n",
    "x[8,3]"
   ]
  },
  {
   "cell_type": "code",
   "execution_count": 9,
   "id": "031d4c92",
   "metadata": {},
   "outputs": [],
   "source": [
    "#ข้อสอบfinal entaneer\n",
    "y = np.array([[34,22,43,55],[45,22,87,28],[90,44,72,40],[34,56,11,99]])\n",
    "\n",
    "# หาค่าเฉลี่ยของ Rowเลขคี่กับ colเลขคู่ ไน่นับตามindex\n",
    "mean = y[0::2,1::2].mean()"
   ]
  },
  {
   "cell_type": "code",
   "execution_count": 8,
   "id": "04e84ba9",
   "metadata": {},
   "outputs": [
    {
     "data": {
      "text/plain": [
       "array([[34, 22, 43, 55],\n",
       "       [45, 22, 87, 28],\n",
       "       [90, 44, 72, 40],\n",
       "       [34, 56, 11, 99]])"
      ]
     },
     "execution_count": 8,
     "metadata": {},
     "output_type": "execute_result"
    }
   ],
   "source": [
    "y"
   ]
  },
  {
   "cell_type": "code",
   "execution_count": 10,
   "id": "81b01259",
   "metadata": {},
   "outputs": [
    {
     "data": {
      "text/plain": [
       "40.25"
      ]
     },
     "execution_count": 10,
     "metadata": {},
     "output_type": "execute_result"
    }
   ],
   "source": [
    "mean"
   ]
  }
 ],
 "metadata": {
  "kernelspec": {
   "display_name": "Python 3 (ipykernel)",
   "language": "python",
   "name": "python3"
  },
  "language_info": {
   "codemirror_mode": {
    "name": "ipython",
    "version": 3
   },
   "file_extension": ".py",
   "mimetype": "text/x-python",
   "name": "python",
   "nbconvert_exporter": "python",
   "pygments_lexer": "ipython3",
   "version": "3.11.5"
  }
 },
 "nbformat": 4,
 "nbformat_minor": 5
}
