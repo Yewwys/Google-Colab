{
 "cells": [
  {
   "cell_type": "code",
   "execution_count": 1,
   "id": "0489b715",
   "metadata": {},
   "outputs": [],
   "source": [
    "import numpy as np\n",
    "import scipy as sp\n",
    "import sympy as smp\n",
    "import matplotlib.pyplot as plt\n",
    "from scipy.integrate import quad\n",
    "from scipy.integrate import cumulative_trapezoid"
   ]
  },
  {
   "cell_type": "code",
   "execution_count": 2,
   "id": "bc1bb8e7",
   "metadata": {},
   "outputs": [],
   "source": [
    "x = smp.symbols('x',real=True)"
   ]
  },
  {
   "cell_type": "code",
   "execution_count": 3,
   "id": "f310d4ea",
   "metadata": {},
   "outputs": [
    {
     "data": {
      "text/latex": [
       "$\\displaystyle x^{2}$"
      ],
      "text/plain": [
       "x**2"
      ]
     },
     "execution_count": 3,
     "metadata": {},
     "output_type": "execute_result"
    }
   ],
   "source": [
    "x**2"
   ]
  },
  {
   "cell_type": "code",
   "execution_count": 4,
   "id": "3db55e56",
   "metadata": {},
   "outputs": [
    {
     "data": {
      "text/latex": [
       "$\\displaystyle \\sin{\\left(x^{2} \\right)}$"
      ],
      "text/plain": [
       "sin(x**2)"
      ]
     },
     "execution_count": 4,
     "metadata": {},
     "output_type": "execute_result"
    }
   ],
   "source": [
    "smp.sin(x**2)"
   ]
  },
  {
   "cell_type": "code",
   "execution_count": 9,
   "id": "20f51c32",
   "metadata": {},
   "outputs": [
    {
     "data": {
      "text/latex": [
       "$\\displaystyle e^{- 5 x} \\sin^{3}{\\left(x \\right)}$"
      ],
      "text/plain": [
       "exp(-5*x)*sin(x)**3"
      ]
     },
     "execution_count": 9,
     "metadata": {},
     "output_type": "execute_result"
    }
   ],
   "source": [
    "f = smp.sin(x)**3 * smp.exp(-5*x)\n",
    "f"
   ]
  },
  {
   "cell_type": "code",
   "execution_count": 10,
   "id": "9cf38d4c",
   "metadata": {
    "scrolled": true
   },
   "outputs": [
    {
     "data": {
      "text/latex": [
       "$\\displaystyle - \\frac{40 e^{- 5 x} \\sin^{3}{\\left(x \\right)}}{221} - \\frac{21 e^{- 5 x} \\sin^{2}{\\left(x \\right)} \\cos{\\left(x \\right)}}{221} - \\frac{15 e^{- 5 x} \\sin{\\left(x \\right)} \\cos^{2}{\\left(x \\right)}}{442} - \\frac{3 e^{- 5 x} \\cos^{3}{\\left(x \\right)}}{442}$"
      ],
      "text/plain": [
       "-40*exp(-5*x)*sin(x)**3/221 - 21*exp(-5*x)*sin(x)**2*cos(x)/221 - 15*exp(-5*x)*sin(x)*cos(x)**2/442 - 3*exp(-5*x)*cos(x)**3/442"
      ]
     },
     "execution_count": 10,
     "metadata": {},
     "output_type": "execute_result"
    }
   ],
   "source": [
    "smp.integrate(f,x)"
   ]
  },
  {
   "cell_type": "markdown",
   "id": "7e1b0fa8",
   "metadata": {},
   "source": [
    "# Find integrate cos(bx)e^-ax dx"
   ]
  },
  {
   "cell_type": "code",
   "execution_count": 14,
   "id": "7c9a432c",
   "metadata": {},
   "outputs": [],
   "source": [
    "a,b = smp.symbols('a b',real=True,positive=True)\n",
    "fcos = smp.cos(b*x)*smp.exp(-a*x)"
   ]
  },
  {
   "cell_type": "code",
   "execution_count": 16,
   "id": "aaca57e9",
   "metadata": {},
   "outputs": [
    {
     "data": {
      "text/latex": [
       "$\\displaystyle \\frac{\\left(- a \\cos{\\left(b x \\right)} + b \\sin{\\left(b x \\right)}\\right) e^{- a x}}{a^{2} + b^{2}}$"
      ],
      "text/plain": [
       "(-a*cos(b*x) + b*sin(b*x))*exp(-a*x)/(a**2 + b**2)"
      ]
     },
     "execution_count": 16,
     "metadata": {},
     "output_type": "execute_result"
    }
   ],
   "source": [
    "smp.integrate(fcos,x).simplify()   #simplify ให้สมการสวยขึ้น"
   ]
  },
  {
   "cell_type": "markdown",
   "id": "5486aa7d",
   "metadata": {},
   "source": [
    "# Example"
   ]
  },
  {
   "cell_type": "code",
   "execution_count": 17,
   "id": "7634874e",
   "metadata": {},
   "outputs": [
    {
     "data": {
      "text/latex": [
       "$\\displaystyle \\frac{3 \\left(\\sqrt{x} + 1\\right)^{\\frac{4}{3}}}{2}$"
      ],
      "text/plain": [
       "3*(sqrt(x) + 1)**(4/3)/2"
      ]
     },
     "execution_count": 17,
     "metadata": {},
     "output_type": "execute_result"
    }
   ],
   "source": [
    "fx = (1+smp.sqrt(x))**smp.Rational(1,3) / smp.sqrt(x)\n",
    "smp.integrate(fx,x).simplify()"
   ]
  },
  {
   "cell_type": "markdown",
   "id": "e110fe3c",
   "metadata": {},
   "source": [
    "# Integrate แบบมีขอบเขต"
   ]
  },
  {
   "cell_type": "markdown",
   "id": "89e52a53",
   "metadata": {},
   "source": [
    "**Example** (Definite) Find $\\int_{0}^{\\ln(4)}\\frac{e^x}{\\sqrt{e^{2x}+9}} dx$"
   ]
  },
  {
   "cell_type": "code",
   "execution_count": 20,
   "id": "d0176a59",
   "metadata": {},
   "outputs": [
    {
     "data": {
      "text/latex": [
       "$\\displaystyle - \\operatorname{asinh}{\\left(\\frac{1}{3} \\right)} + \\operatorname{asinh}{\\left(\\frac{4}{3} \\right)}$"
      ],
      "text/plain": [
       "-asinh(1/3) + asinh(4/3)"
      ]
     },
     "execution_count": 20,
     "metadata": {},
     "output_type": "execute_result"
    }
   ],
   "source": [
    "flimit = smp.exp(x) / smp.sqrt(smp.exp(2*x)+9)\n",
    "smp.integrate(flimit,(x,0,smp.log(4)))"
   ]
  },
  {
   "cell_type": "code",
   "execution_count": 21,
   "id": "b42f0436",
   "metadata": {},
   "outputs": [
    {
     "data": {
      "text/latex": [
       "$\\displaystyle 0.771162138430851$"
      ],
      "text/plain": [
       "0.771162138430851"
      ]
     },
     "execution_count": 21,
     "metadata": {},
     "output_type": "execute_result"
    }
   ],
   "source": [
    "smp.integrate(flimit,(x,0,smp.log(4))).evalf()"
   ]
  },
  {
   "cell_type": "markdown",
   "id": "c5bc25e3",
   "metadata": {},
   "source": [
    "**Example** (Improper) Find $ \\int_{0}^{\\infty} \\frac{16 \\tan^{-1}(x)}{1+x^2} dx $"
   ]
  },
  {
   "cell_type": "code",
   "execution_count": 22,
   "id": "2d3e81f8",
   "metadata": {},
   "outputs": [
    {
     "data": {
      "text/latex": [
       "$\\displaystyle 2 \\pi^{2}$"
      ],
      "text/plain": [
       "2*pi**2"
      ]
     },
     "execution_count": 22,
     "metadata": {},
     "output_type": "execute_result"
    }
   ],
   "source": [
    "fimproper = (16*smp.atan(x)) / (1+x**2)\n",
    "smp.integrate(fimproper,(x,0,smp.oo))"
   ]
  },
  {
   "cell_type": "markdown",
   "id": "58803f86",
   "metadata": {},
   "source": [
    "## Part 2: \"Unsolvable\" Integrals"
   ]
  },
  {
   "cell_type": "markdown",
   "id": "cc6bb53e",
   "metadata": {},
   "source": [
    "**Example**: Find $\\int_{1}^{2} e^{-\\sin(x)} dx$"
   ]
  },
  {
   "cell_type": "code",
   "execution_count": 23,
   "id": "87c19199",
   "metadata": {},
   "outputs": [
    {
     "data": {
      "text/latex": [
       "$\\displaystyle \\int\\limits_{1}^{2} e^{- \\sin{\\left(x \\right)}}\\, dx$"
      ],
      "text/plain": [
       "Integral(exp(-sin(x)), (x, 1, 2))"
      ]
     },
     "execution_count": 23,
     "metadata": {},
     "output_type": "execute_result"
    }
   ],
   "source": [
    "f = smp.exp(-smp.sin(x))\n",
    "smp.integrate(f,(x,1,2))"
   ]
  },
  {
   "cell_type": "code",
   "execution_count": 24,
   "id": "c3906d6c",
   "metadata": {},
   "outputs": [
    {
     "data": {
      "text/latex": [
       "$\\displaystyle \\int\\limits_{1}^{2} e^{- \\sin{\\left(x \\right)}}\\, dx$"
      ],
      "text/plain": [
       "Integral(exp(-sin(x)), (x, 1, 2))"
      ]
     },
     "execution_count": 24,
     "metadata": {},
     "output_type": "execute_result"
    }
   ],
   "source": [
    "smp.integrate(f,(x,1,2)).simplify()  #Can't Solve"
   ]
  },
  {
   "cell_type": "markdown",
   "id": "34a343d0",
   "metadata": {},
   "source": [
    "So we use scipy's `quad` function to integrate numerically"
   ]
  },
  {
   "cell_type": "code",
   "execution_count": 25,
   "id": "fa9cba29",
   "metadata": {},
   "outputs": [],
   "source": [
    "f= lambda x: np.exp(-np.sin(x))"
   ]
  },
  {
   "cell_type": "code",
   "execution_count": 30,
   "id": "ea9e6ccb",
   "metadata": {},
   "outputs": [
    {
     "data": {
      "text/plain": [
       "(0.3845918142796868, 4.2698268729567035e-15)"
      ]
     },
     "execution_count": 30,
     "metadata": {},
     "output_type": "execute_result"
    }
   ],
   "source": [
    "quad(f,1,2)"
   ]
  },
  {
   "cell_type": "code",
   "execution_count": 31,
   "id": "65f1724e",
   "metadata": {},
   "outputs": [
    {
     "data": {
      "text/plain": [
       "0.3845918142796868"
      ]
     },
     "execution_count": 31,
     "metadata": {},
     "output_type": "execute_result"
    }
   ],
   "source": [
    "quad(f,1,2)[0]"
   ]
  },
  {
   "cell_type": "markdown",
   "id": "998dac2f",
   "metadata": {},
   "source": [
    "**Example**: Find $\\int_{0}^{2\\pi} \\frac{1}{(a-\\cos(x))^2 + (b-\\sin(x))^2} dx$"
   ]
  },
  {
   "cell_type": "code",
   "execution_count": 32,
   "id": "a224751a",
   "metadata": {},
   "outputs": [
    {
     "data": {
      "text/plain": [
       "(62.10865957051835, 4.6087495988836774e-08)"
      ]
     },
     "execution_count": 32,
     "metadata": {},
     "output_type": "execute_result"
    }
   ],
   "source": [
    "fnew = lambda x: 1/((a-np.cos(x))**2) + ((b-np.sin(x))**2)\n",
    "a,b = 2,3\n",
    "quad(fnew,0,2*np.pi)"
   ]
  }
 ],
 "metadata": {
  "kernelspec": {
   "display_name": "Python 3 (ipykernel)",
   "language": "python",
   "name": "python3"
  },
  "language_info": {
   "codemirror_mode": {
    "name": "ipython",
    "version": 3
   },
   "file_extension": ".py",
   "mimetype": "text/x-python",
   "name": "python",
   "nbconvert_exporter": "python",
   "pygments_lexer": "ipython3",
   "version": "3.11.5"
  }
 },
 "nbformat": 4,
 "nbformat_minor": 5
}
